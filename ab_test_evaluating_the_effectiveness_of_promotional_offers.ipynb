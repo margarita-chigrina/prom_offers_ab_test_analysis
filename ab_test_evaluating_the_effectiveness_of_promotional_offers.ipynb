{
 "cells": [
  {
   "cell_type": "code",
   "execution_count": 5,
   "metadata": {},
   "outputs": [],
   "source": [
    "import pandas as pd\n",
    "import numpy as np\n",
    "from scipy.stats import chi2_contingency"
   ]
  },
  {
   "cell_type": "code",
   "execution_count": 6,
   "metadata": {},
   "outputs": [],
   "source": [
    "df_AB_test = pd.read_csv('ab_test_data.csv', sep = ';')"
   ]
  },
  {
   "cell_type": "code",
   "execution_count": 7,
   "metadata": {},
   "outputs": [
    {
     "name": "stdout",
     "output_type": "stream",
     "text": [
      "<class 'pandas.core.frame.DataFrame'>\n",
      "RangeIndex: 404770 entries, 0 to 404769\n",
      "Data columns (total 3 columns):\n",
      " #   Column     Non-Null Count   Dtype \n",
      "---  ------     --------------   ----- \n",
      " 0   user_id    404770 non-null  int64 \n",
      " 1   revenue    404770 non-null  int64 \n",
      " 2   testgroup  404770 non-null  object\n",
      "dtypes: int64(2), object(1)\n",
      "memory usage: 9.3+ MB\n"
     ]
    }
   ],
   "source": [
    "df_AB_test.info()"
   ]
  },
  {
   "cell_type": "code",
   "execution_count": 8,
   "metadata": {},
   "outputs": [
    {
     "data": {
      "text/html": [
       "<div>\n",
       "<style scoped>\n",
       "    .dataframe tbody tr th:only-of-type {\n",
       "        vertical-align: middle;\n",
       "    }\n",
       "\n",
       "    .dataframe tbody tr th {\n",
       "        vertical-align: top;\n",
       "    }\n",
       "\n",
       "    .dataframe thead th {\n",
       "        text-align: right;\n",
       "    }\n",
       "</style>\n",
       "<table border=\"1\" class=\"dataframe\">\n",
       "  <thead>\n",
       "    <tr style=\"text-align: right;\">\n",
       "      <th></th>\n",
       "      <th>user_id</th>\n",
       "      <th>revenue</th>\n",
       "      <th>testgroup</th>\n",
       "    </tr>\n",
       "  </thead>\n",
       "  <tbody>\n",
       "    <tr>\n",
       "      <th>0</th>\n",
       "      <td>1</td>\n",
       "      <td>0</td>\n",
       "      <td>b</td>\n",
       "    </tr>\n",
       "    <tr>\n",
       "      <th>1</th>\n",
       "      <td>2</td>\n",
       "      <td>0</td>\n",
       "      <td>a</td>\n",
       "    </tr>\n",
       "    <tr>\n",
       "      <th>2</th>\n",
       "      <td>3</td>\n",
       "      <td>0</td>\n",
       "      <td>a</td>\n",
       "    </tr>\n",
       "    <tr>\n",
       "      <th>3</th>\n",
       "      <td>4</td>\n",
       "      <td>0</td>\n",
       "      <td>b</td>\n",
       "    </tr>\n",
       "    <tr>\n",
       "      <th>4</th>\n",
       "      <td>5</td>\n",
       "      <td>0</td>\n",
       "      <td>b</td>\n",
       "    </tr>\n",
       "  </tbody>\n",
       "</table>\n",
       "</div>"
      ],
      "text/plain": [
       "   user_id  revenue testgroup\n",
       "0        1        0         b\n",
       "1        2        0         a\n",
       "2        3        0         a\n",
       "3        4        0         b\n",
       "4        5        0         b"
      ]
     },
     "execution_count": 8,
     "metadata": {},
     "output_type": "execute_result"
    }
   ],
   "source": [
    "df_AB_test.head()"
   ]
  },
  {
   "cell_type": "markdown",
   "metadata": {},
   "source": [
    "<h1> Utilization of Bootstrap in A/B Testing: Metric Analysis and Hypothesis Testing"
   ]
  },
  {
   "cell_type": "markdown",
   "metadata": {},
   "source": [
    "There are results of an A/B test in which two groups of users were presented with different sets of promotional offers"
   ]
  },
  {
   "cell_type": "markdown",
   "metadata": {},
   "source": [
    "<h2> Calculating ARPU (Average Revenue Per User)"
   ]
  },
  {
   "cell_type": "code",
   "execution_count": 9,
   "metadata": {},
   "outputs": [
    {
     "data": {
      "text/html": [
       "<div>\n",
       "<style scoped>\n",
       "    .dataframe tbody tr th:only-of-type {\n",
       "        vertical-align: middle;\n",
       "    }\n",
       "\n",
       "    .dataframe tbody tr th {\n",
       "        vertical-align: top;\n",
       "    }\n",
       "\n",
       "    .dataframe thead th {\n",
       "        text-align: right;\n",
       "    }\n",
       "</style>\n",
       "<table border=\"1\" class=\"dataframe\">\n",
       "  <thead>\n",
       "    <tr style=\"text-align: right;\">\n",
       "      <th></th>\n",
       "      <th>testgroup</th>\n",
       "      <th>users_amount</th>\n",
       "      <th>revenue</th>\n",
       "      <th>ARPU</th>\n",
       "    </tr>\n",
       "  </thead>\n",
       "  <tbody>\n",
       "    <tr>\n",
       "      <th>0</th>\n",
       "      <td>a</td>\n",
       "      <td>202103</td>\n",
       "      <td>5136189</td>\n",
       "      <td>25.413720</td>\n",
       "    </tr>\n",
       "    <tr>\n",
       "      <th>1</th>\n",
       "      <td>b</td>\n",
       "      <td>202667</td>\n",
       "      <td>5421603</td>\n",
       "      <td>26.751287</td>\n",
       "    </tr>\n",
       "  </tbody>\n",
       "</table>\n",
       "</div>"
      ],
      "text/plain": [
       "  testgroup  users_amount  revenue       ARPU\n",
       "0         a        202103  5136189  25.413720\n",
       "1         b        202667  5421603  26.751287"
      ]
     },
     "execution_count": 9,
     "metadata": {},
     "output_type": "execute_result"
    }
   ],
   "source": [
    "# Grouping by the test group, counting unique users, and summing up revenue.\n",
    "ARPU_df = df_AB_test.groupby(\"testgroup\", as_index = False)\\\n",
    "                                .agg({\"user_id\": pd.Series.nunique, \"revenue\": \"sum\"})\\\n",
    "                                .rename(columns = {\"user_id\": \"users_amount\"})\n",
    "\n",
    "# Calculation of ARPU using the formula \n",
    "ARPU_df[\"ARPU\"] = ARPU_df.revenue / ARPU_df.users_amount\n",
    "ARPU_df"
   ]
  },
  {
   "cell_type": "code",
   "execution_count": 10,
   "metadata": {},
   "outputs": [
    {
     "name": "stdout",
     "output_type": "stream",
     "text": [
      "The difference between the means in the two test groups is 1.34, which is 5.27%\n"
     ]
    }
   ],
   "source": [
    "ARPU_diff = abs(ARPU_df.ARPU[0] - ARPU_df.ARPU[1]).round(2)\n",
    "ARPU_diff_percentage = (ARPU_diff/ARPU_df.ARPU[0]*100).round(2)\n",
    "print(f'The difference between the means in the two test groups is {ARPU_diff}, which is {ARPU_diff_percentage}%')"
   ]
  },
  {
   "cell_type": "markdown",
   "metadata": {},
   "source": [
    "<h2> Checking the statistical significance in the difference of ARPU."
   ]
  },
  {
   "cell_type": "markdown",
   "metadata": {},
   "source": [
    "<h4> Null Hypothesis H0: Promotional offers in groups a and b did not significantly impact revenue.<h4>\n",
    "Alternative Hypothesis H1: Promotional offers significantly increased revenue in group b.<h4>"
   ]
  },
  {
   "cell_type": "code",
   "execution_count": 11,
   "metadata": {},
   "outputs": [],
   "source": [
    "# Splitting df into group a and group b\n",
    "a_group = df_AB_test.query(\"testgroup == 'a'\")\n",
    "b_group = df_AB_test.query(\"testgroup == 'b'\")"
   ]
  },
  {
   "cell_type": "code",
   "execution_count": 12,
   "metadata": {},
   "outputs": [
    {
     "data": {
      "text/plain": [
       "set()"
      ]
     },
     "execution_count": 12,
     "metadata": {},
     "output_type": "execute_result"
    }
   ],
   "source": [
    "# Checking for intersection between sets\n",
    "group_a = set(a_group.user_id)\n",
    "group_b = set(b_group.user_id)\n",
    "\n",
    "group_a.intersection(group_b)"
   ]
  },
  {
   "cell_type": "markdown",
   "metadata": {},
   "source": [
    "<h6> Bootstrap ARPU"
   ]
  },
  {
   "cell_type": "code",
   "execution_count": 13,
   "metadata": {},
   "outputs": [
    {
     "name": "stdout",
     "output_type": "stream",
     "text": [
      "a group median revenue = 0.0, b group median revenue = 0.0\n"
     ]
    }
   ],
   "source": [
    "arpu_median_a = a_group['revenue'].median()\n",
    "arpu_median_b = b_group['revenue'].median()\n",
    "print(f'a group median revenue = {arpu_median_a}, b group median revenue = {arpu_median_b}')"
   ]
  },
  {
   "cell_type": "markdown",
   "metadata": {},
   "source": [
    "Comparing medians for ARPU is not advisable, as a significant number of users did not make any purchases, resulting in median values of 0 for both Group A and Group B. Therefore, in this case, we compare the means."
   ]
  },
  {
   "cell_type": "code",
   "execution_count": 16,
   "metadata": {},
   "outputs": [
    {
     "name": "stdout",
     "output_type": "stream",
     "text": [
      "Interval [-2.9456185993691983 5.337996674210463]\n"
     ]
    }
   ],
   "source": [
    "# Bootstrap from for means\n",
    "mean_diff = []\n",
    "for i in range(10000):\n",
    "    sample_data_a_arpu = a_group['revenue'].sample(frac=1, replace=True)\n",
    "    sample_mean_a = sample_data_a_arpu.mean()\n",
    "    \n",
    "    sample_data_b_arpu = b_group['revenue'].sample(frac=1, replace=True)\n",
    "    sample_mean_b = sample_data_b_arpu.mean()\n",
    "    \n",
    "    sample_mean_diff = sample_mean_b - sample_mean_a\n",
    "    mean_diff.append(sample_mean_diff)\n",
    "    \n",
    "left_arpu = pd.Series(mean_diff).quantile(0.025)\n",
    "right_arpu = pd.Series(mean_diff).quantile(0.975)\n",
    "print(f'Interval [{left_arpu} {right_arpu}]')"
   ]
  },
  {
   "cell_type": "markdown",
   "metadata": {},
   "source": [
    "<h6> CONCLUSION ARPU:"
   ]
  },
  {
   "cell_type": "markdown",
   "metadata": {},
   "source": [
    "In the case of ARPU (considering users who did not make purchases), we cannot claim a statistically significant difference in revenue between group A and group B, since the interval Bootstrap_ARPU includes 0. In other words, the null hypothesis is not rejected."
   ]
  },
  {
   "cell_type": "code",
   "execution_count": null,
   "metadata": {},
   "outputs": [],
   "source": []
  },
  {
   "cell_type": "markdown",
   "metadata": {},
   "source": [
    "<h2> Calculation of ARPPU (Average Revenue Per Paying User)"
   ]
  },
  {
   "cell_type": "markdown",
   "metadata": {},
   "source": [
    "In the case of ARPPU (Average Revenue Per Paying User), we exclude users who did not make any purchases and focus solely on paying users. This involves filtering out users with zero revenue, grouping by the test group, and calculating the number of unique users and the sum of their revenue in each group."
   ]
  },
  {
   "cell_type": "code",
   "execution_count": 17,
   "metadata": {},
   "outputs": [
    {
     "data": {
      "text/html": [
       "<div>\n",
       "<style scoped>\n",
       "    .dataframe tbody tr th:only-of-type {\n",
       "        vertical-align: middle;\n",
       "    }\n",
       "\n",
       "    .dataframe tbody tr th {\n",
       "        vertical-align: top;\n",
       "    }\n",
       "\n",
       "    .dataframe thead th {\n",
       "        text-align: right;\n",
       "    }\n",
       "</style>\n",
       "<table border=\"1\" class=\"dataframe\">\n",
       "  <thead>\n",
       "    <tr style=\"text-align: right;\">\n",
       "      <th></th>\n",
       "      <th>testgroup</th>\n",
       "      <th>paying_users_amount</th>\n",
       "      <th>revenue</th>\n",
       "      <th>ARPPU</th>\n",
       "    </tr>\n",
       "  </thead>\n",
       "  <tbody>\n",
       "    <tr>\n",
       "      <th>0</th>\n",
       "      <td>a</td>\n",
       "      <td>1928</td>\n",
       "      <td>5136189</td>\n",
       "      <td>2663.998444</td>\n",
       "    </tr>\n",
       "    <tr>\n",
       "      <th>1</th>\n",
       "      <td>b</td>\n",
       "      <td>1805</td>\n",
       "      <td>5421603</td>\n",
       "      <td>3003.658172</td>\n",
       "    </tr>\n",
       "  </tbody>\n",
       "</table>\n",
       "</div>"
      ],
      "text/plain": [
       "  testgroup  paying_users_amount  revenue        ARPPU\n",
       "0         a                 1928  5136189  2663.998444\n",
       "1         b                 1805  5421603  3003.658172"
      ]
     },
     "execution_count": 17,
     "metadata": {},
     "output_type": "execute_result"
    }
   ],
   "source": [
    "ARPPU_df = df_AB_test.query(\"revenue != 0\")\\\n",
    "                    .groupby(\"testgroup\", as_index = False)\\\n",
    "                    .agg({\"user_id\": pd.Series.nunique, \"revenue\": \"sum\"})\\\n",
    "                    .rename(columns = {\"user_id\": \"paying_users_amount\"})\n",
    "\n",
    "# Calculation of ARPPU\n",
    "ARPPU_df[\"ARPPU\"] = (ARPPU_df.revenue / ARPPU_df.paying_users_amount)\n",
    "ARPPU_df"
   ]
  },
  {
   "cell_type": "code",
   "execution_count": 18,
   "metadata": {},
   "outputs": [
    {
     "name": "stdout",
     "output_type": "stream",
     "text": [
      "The difference between the averages in the two test groups is 339.66, which is 12.75%\n"
     ]
    }
   ],
   "source": [
    "ARPPU_diff = abs(ARPPU_df.ARPPU[0] - ARPPU_df.ARPPU[1]).round(2)\n",
    "ARPPU_diff_percentage = (ARPPU_diff / ARPPU_df.ARPPU[0] * 100).round(2)\n",
    "print(f'The difference between the averages in the two test groups is {ARPPU_diff}, which is {ARPPU_diff_percentage}%')"
   ]
  },
  {
   "cell_type": "markdown",
   "metadata": {},
   "source": [
    "<h2> Checking the statistical significance in the difference of ARPPU"
   ]
  },
  {
   "cell_type": "markdown",
   "metadata": {},
   "source": [
    "<h4> Null Hypothesis H0: Revenue among paying users in group a and group b does not significantly differ. <h4>\n",
    "Alternative Hypothesis H1: Paying users from group b significantly contribute more revenue.<h4>"
   ]
  },
  {
   "cell_type": "code",
   "execution_count": 19,
   "metadata": {},
   "outputs": [],
   "source": [
    "# Splitting df into group a and group b\n",
    "ARPPU_a = df_AB_test.query(\"revenue != 0 & testgroup == 'a'\")\n",
    "ARPPU_b = df_AB_test.query(\"revenue != 0 & testgroup == 'b'\")"
   ]
  },
  {
   "cell_type": "markdown",
   "metadata": {},
   "source": [
    "<h6> Bootstrap ARPPU"
   ]
  },
  {
   "cell_type": "code",
   "execution_count": 20,
   "metadata": {},
   "outputs": [
    {
     "name": "stdout",
     "output_type": "stream",
     "text": [
      "a group median revenue = 311.0, b group median revenue = 3022.0\n"
     ]
    }
   ],
   "source": [
    "arppu_median_a = ARPPU_a['revenue'].median()\n",
    "arppu_median_b = ARPPU_b['revenue'].median()\n",
    "print(f'a group median revenue = {arppu_median_a}, b group median revenue = {arppu_median_b}')"
   ]
  },
  {
   "cell_type": "markdown",
   "metadata": {},
   "source": [
    "In this case, since there are no zero values in revenue, it is possible to check the medians."
   ]
  },
  {
   "cell_type": "code",
   "execution_count": 21,
   "metadata": {
    "scrolled": true
   },
   "outputs": [
    {
     "name": "stdout",
     "output_type": "stream",
     "text": [
      "The difference between the means in the two test groups is 2711.0\n"
     ]
    }
   ],
   "source": [
    "ARPPU_median_diff = abs(arppu_median_b - arppu_median_a)\n",
    "print(f'The difference between the means in the two test groups is {ARPPU_median_diff}')"
   ]
  },
  {
   "cell_type": "code",
   "execution_count": 22,
   "metadata": {},
   "outputs": [
    {
     "name": "stdout",
     "output_type": "stream",
     "text": [
      "Interval [2655.0 2760.0]\n"
     ]
    }
   ],
   "source": [
    "# Bootstrap for medians \n",
    "median_diff = []\n",
    "for i in range(10000):\n",
    "    sample_data_a = ARPPU_a['revenue'].sample(frac=1, replace=True)\n",
    "    sample_median_a = sample_data_a.median()\n",
    "    \n",
    "    sample_data_b = ARPPU_b['revenue'].sample(frac=1, replace=True)\n",
    "    sample_median_b = sample_data_b.median()\n",
    "    \n",
    "    sample_median_diff = sample_median_b - sample_median_a\n",
    "    median_diff.append(sample_median_diff)\n",
    "    \n",
    "left = pd.Series(median_diff).quantile(0.025)\n",
    "right = pd.Series(median_diff).quantile(0.975)\n",
    "print(f'Interval [{left} {right}]')"
   ]
  },
  {
   "cell_type": "markdown",
   "metadata": {},
   "source": [
    "<h6> CONCLUSION ARPPU:"
   ]
  },
  {
   "cell_type": "markdown",
   "metadata": {},
   "source": [
    "In the case of ARPPU (considering only paying users), we can claim a statistically significant difference in revenue between group A and group B, since the interval Bootstrap_ARPU does not include 0. In other words, the null hypothesis H0 is rejected and the alternative hypothesis H1 is accepted."
   ]
  },
  {
   "cell_type": "markdown",
   "metadata": {},
   "source": [
    "<h2> Calculation of Conversion Rate"
   ]
  },
  {
   "cell_type": "code",
   "execution_count": 23,
   "metadata": {},
   "outputs": [],
   "source": [
    "# Calculation of the total number of users in the groups\n",
    "all_users = df_AB_test.groupby(\"testgroup\", as_index = False)[\"user_id\"].nunique()\\\n",
    "                        .rename(columns = {\"user_id\": \"users_amount\"})"
   ]
  },
  {
   "cell_type": "code",
   "execution_count": 24,
   "metadata": {},
   "outputs": [],
   "source": [
    "# Calculation of the number of users who made a purchase\n",
    "paying_users = df_AB_test.query(\"revenue!=0\").groupby(\"testgroup\", as_index = False)[\"user_id\"].nunique()\\\n",
    "                                            .rename(columns = {\"user_id\": \"paying_users_amount\"})"
   ]
  },
  {
   "cell_type": "code",
   "execution_count": 25,
   "metadata": {},
   "outputs": [],
   "source": [
    "# Merging dataframes and creating a cross-table.\n",
    "users_df = all_users.merge(paying_users, on = 'testgroup')"
   ]
  },
  {
   "cell_type": "code",
   "execution_count": 26,
   "metadata": {},
   "outputs": [
    {
     "data": {
      "text/html": [
       "<div>\n",
       "<style scoped>\n",
       "    .dataframe tbody tr th:only-of-type {\n",
       "        vertical-align: middle;\n",
       "    }\n",
       "\n",
       "    .dataframe tbody tr th {\n",
       "        vertical-align: top;\n",
       "    }\n",
       "\n",
       "    .dataframe thead th {\n",
       "        text-align: right;\n",
       "    }\n",
       "</style>\n",
       "<table border=\"1\" class=\"dataframe\">\n",
       "  <thead>\n",
       "    <tr style=\"text-align: right;\">\n",
       "      <th></th>\n",
       "      <th>testgroup</th>\n",
       "      <th>users_amount</th>\n",
       "      <th>paying_users_amount</th>\n",
       "    </tr>\n",
       "  </thead>\n",
       "  <tbody>\n",
       "    <tr>\n",
       "      <th>0</th>\n",
       "      <td>a</td>\n",
       "      <td>202103</td>\n",
       "      <td>1928</td>\n",
       "    </tr>\n",
       "    <tr>\n",
       "      <th>1</th>\n",
       "      <td>b</td>\n",
       "      <td>202667</td>\n",
       "      <td>1805</td>\n",
       "    </tr>\n",
       "  </tbody>\n",
       "</table>\n",
       "</div>"
      ],
      "text/plain": [
       "  testgroup  users_amount  paying_users_amount\n",
       "0         a        202103                 1928\n",
       "1         b        202667                 1805"
      ]
     },
     "execution_count": 26,
     "metadata": {},
     "output_type": "execute_result"
    }
   ],
   "source": [
    "users_df"
   ]
  },
  {
   "cell_type": "markdown",
   "metadata": {},
   "source": [
    "It is necessary to keep the users_df without the CR column as a cross-table for conducting the Chi2 test. Therefore, to add the CR column, a copy of users_df - conversion is created."
   ]
  },
  {
   "cell_type": "code",
   "execution_count": 27,
   "metadata": {},
   "outputs": [],
   "source": [
    "conversion = users_df.copy()\n",
    "conversion[\"CR_%\"] = conversion.paying_users_amount / conversion.users_amount * 100"
   ]
  },
  {
   "cell_type": "code",
   "execution_count": 28,
   "metadata": {},
   "outputs": [
    {
     "data": {
      "text/html": [
       "<div>\n",
       "<style scoped>\n",
       "    .dataframe tbody tr th:only-of-type {\n",
       "        vertical-align: middle;\n",
       "    }\n",
       "\n",
       "    .dataframe tbody tr th {\n",
       "        vertical-align: top;\n",
       "    }\n",
       "\n",
       "    .dataframe thead th {\n",
       "        text-align: right;\n",
       "    }\n",
       "</style>\n",
       "<table border=\"1\" class=\"dataframe\">\n",
       "  <thead>\n",
       "    <tr style=\"text-align: right;\">\n",
       "      <th></th>\n",
       "      <th>testgroup</th>\n",
       "      <th>users_amount</th>\n",
       "      <th>paying_users_amount</th>\n",
       "      <th>CR_%</th>\n",
       "    </tr>\n",
       "  </thead>\n",
       "  <tbody>\n",
       "    <tr>\n",
       "      <th>0</th>\n",
       "      <td>a</td>\n",
       "      <td>202103</td>\n",
       "      <td>1928</td>\n",
       "      <td>0.953969</td>\n",
       "    </tr>\n",
       "    <tr>\n",
       "      <th>1</th>\n",
       "      <td>b</td>\n",
       "      <td>202667</td>\n",
       "      <td>1805</td>\n",
       "      <td>0.890624</td>\n",
       "    </tr>\n",
       "  </tbody>\n",
       "</table>\n",
       "</div>"
      ],
      "text/plain": [
       "  testgroup  users_amount  paying_users_amount      CR_%\n",
       "0         a        202103                 1928  0.953969\n",
       "1         b        202667                 1805  0.890624"
      ]
     },
     "execution_count": 28,
     "metadata": {},
     "output_type": "execute_result"
    }
   ],
   "source": [
    "conversion"
   ]
  },
  {
   "cell_type": "markdown",
   "metadata": {},
   "source": [
    "<h2> Checking the statistical significance in the difference of Conversion rate"
   ]
  },
  {
   "cell_type": "markdown",
   "metadata": {},
   "source": [
    "<h4> Null Hypothesis H0: The number of users making a purchase has not changed significantly. <h4>\n",
    "Alternative Hypothesis H1: The number of users making a purchase has significantly decreased in group b.<h4>\n",
    "p = 0.05"
   ]
  },
  {
   "cell_type": "markdown",
   "metadata": {},
   "source": [
    "<h6> Chi-square Test"
   ]
  },
  {
   "cell_type": "code",
   "execution_count": 29,
   "metadata": {},
   "outputs": [],
   "source": [
    "users_df = users_df.set_index('testgroup')"
   ]
  },
  {
   "cell_type": "code",
   "execution_count": 30,
   "metadata": {},
   "outputs": [
    {
     "name": "stdout",
     "output_type": "stream",
     "text": [
      "P = 0.03824373651044168\n"
     ]
    }
   ],
   "source": [
    "Chi2 = chi2_contingency(users_df)\n",
    "\n",
    "p_chi2 = Chi2[1]\n",
    "print(f'P = {p_chi2}')"
   ]
  },
  {
   "cell_type": "markdown",
   "metadata": {},
   "source": [
    "<h6> CONCLUSION CR:"
   ]
  },
  {
   "cell_type": "markdown",
   "metadata": {},
   "source": [
    "For the Conversion Rate, we can conclude that there is a statistically significant difference in the number of users making purchases between group a and group b, as P < P value. This provides grounds to reject the null hypothesis H0, which assumes no change in the number of users making purchases, and accept the alternative hypothesis that in group b, people are making fewer purchases."
   ]
  },
  {
   "cell_type": "code",
   "execution_count": null,
   "metadata": {},
   "outputs": [],
   "source": []
  },
  {
   "cell_type": "markdown",
   "metadata": {},
   "source": [
    "<h2> OVERALL CONCLUSION "
   ]
  },
  {
   "cell_type": "markdown",
   "metadata": {},
   "source": [
    "To determine which set of offers can be considered the best, decisions should align with the objectives of the A/B test.\n",
    "\n",
    "1) If the goal of the test was to increase conversion and ARPU, the test group (b) did not show a significant difference in ARPU. However, there was a statistically significant decrease in conversion, indicating that for these goals, promotional offers in group b did not perform well.\n",
    "\n",
    "2) If the goal of the test was to increase the average revenue per paying user (ARPPU), even if the numbers of users  decrease, the promotional offers in group b successfully achieved this objective."
   ]
  },
  {
   "cell_type": "code",
   "execution_count": null,
   "metadata": {},
   "outputs": [],
   "source": []
  }
 ],
 "metadata": {
  "kernelspec": {
   "display_name": "Python 3",
   "language": "python",
   "name": "python3"
  },
  "language_info": {
   "codemirror_mode": {
    "name": "ipython",
    "version": 3
   },
   "file_extension": ".py",
   "mimetype": "text/x-python",
   "name": "python",
   "nbconvert_exporter": "python",
   "pygments_lexer": "ipython3",
   "version": "3.7.3"
  }
 },
 "nbformat": 4,
 "nbformat_minor": 4
}
